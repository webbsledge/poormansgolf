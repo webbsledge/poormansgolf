{
 "cells": [
  {
   "cell_type": "code",
   "outputs": [],
   "source": [
    "import feedparser as fp\n",
    "import pandas as pd\n",
    "\n",
    "# rss_url = \"https://chasingscratch.libsyn.com/rss\"\n",
    "rss_url = \"https://anchor.fm/s/eb22fd30/podcast/rss\"\n",
    "\n",
    "podcast_num = int(input(\"What podcast number: \"))\n",
    "\n",
    "feed = fp.parse(rss_url)\n",
    "\n",
    "titles = []\n",
    "dates = []\n",
    "links = []\n",
    "\n",
    "for entry in feed.entries:\n",
    "    titles.append(entry.title)\n",
    "    dates.append(entry.published)\n",
    "    links.append(entry.link)\n",
    "\n",
    "entry_index = list(range(len(titles)))\n",
    "titles.reverse()\n",
    "dates.reverse()\n",
    "links.reverse()\n",
    "\n",
    "podcasts = {k: [v1, v2, v3] for k, v1, v2, v3 in zip(entry_index, titles, dates, links)}\n",
    "podcasts = pd.DataFrame.from_dict(podcasts)\n",
    "\n",
    "print(podcasts[podcast_num])\n",
    "print(len(podcasts.T) - 1)"
   ],
   "metadata": {
    "collapsed": false
   },
   "id": "51d9f5d450dd6646",
   "execution_count": null
  },
  {
   "cell_type": "code",
   "outputs": [],
   "source": [
    "print(podcasts)"
   ],
   "metadata": {
    "collapsed": false
   },
   "id": "83723d95a9775fe4",
   "execution_count": null
  },
  {
   "cell_type": "code",
   "outputs": [],
   "source": [
    "import feedparser as fp\n",
    "\n",
    "# rss_url = \"https://chasingscratch.libsyn.com/rss\"\n",
    "rss_url = \"https://anchor.fm/s/eb22fd30/podcast/rss\"\n",
    "\n",
    "feed = fp.parse(rss_url)\n",
    "\n",
    "def print_dict_structure(d, indent=0):\n",
    "    for key, value in d.items():\n",
    "        print('\\t' * indent + str(key))\n",
    "        if isinstance(value, dict):\n",
    "            print_dict_structure(value, indent + 1)\n",
    "        else:\n",
    "            print('\\t' * (indent + 1) + str(type(value)))\n",
    "\n",
    "print_dict_structure(feed)"
   ],
   "metadata": {
    "collapsed": false
   },
   "id": "51e989f3537be80c",
   "execution_count": null
  },
  {
   "cell_type": "code",
   "outputs": [],
   "source": [
    "print_dict_structure(feed['entries'][0])"
   ],
   "metadata": {
    "collapsed": false
   },
   "id": "c32bf85755e40883",
   "execution_count": null
  },
  {
   "cell_type": "code",
   "outputs": [],
   "source": [
    "for i in range(0,154):\n",
    "    print(feed['entries'][i]['links'][1]['href'].split('?')[0])"
   ],
   "metadata": {
    "collapsed": false
   },
   "id": "1e6ceaf3a45f3c25",
   "execution_count": null
  },
  {
   "cell_type": "code",
   "outputs": [],
   "source": [
    "stripped_links = [entry['links'][1]['href'].split('?')[0] for entry in feed['entries']]\n",
    "print(stripped_links)"
   ],
   "metadata": {
    "collapsed": false
   },
   "id": "40d2e8ee69080374",
   "execution_count": null
  },
  {
   "cell_type": "code",
   "outputs": [],
   "source": [
    "len(stripped_links)"
   ],
   "metadata": {
    "collapsed": false
   },
   "id": "c3fbe79b99fefeb3",
   "execution_count": null
  },
  {
   "cell_type": "code",
   "outputs": [],
   "source": [
    "podcasts.T"
   ],
   "metadata": {
    "collapsed": false
   },
   "id": "fb67efaf0865a6fc",
   "execution_count": null
  },
  {
   "cell_type": "code",
   "outputs": [],
   "source": [],
   "metadata": {
    "collapsed": false
   },
   "id": "9273950803ef4250"
  }
 ],
 "metadata": {
  "kernelspec": {
   "display_name": "Python 3",
   "language": "python",
   "name": "python3"
  },
  "language_info": {
   "codemirror_mode": {
    "name": "ipython",
    "version": 2
   },
   "file_extension": ".py",
   "mimetype": "text/x-python",
   "name": "python",
   "nbconvert_exporter": "python",
   "pygments_lexer": "ipython2",
   "version": "2.7.6"
  }
 },
 "nbformat": 4,
 "nbformat_minor": 5
}
